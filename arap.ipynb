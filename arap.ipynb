{
 "cells": [
  {
   "cell_type": "code",
   "execution_count": null,
   "metadata": {},
   "outputs": [],
   "source": [
    "import os\n",
    "import scipy\n",
    "import numpy as np\n",
    "import trimesh\n",
    "from trimesh import viewer"
   ]
  },
  {
   "cell_type": "code",
   "execution_count": null,
   "metadata": {},
   "outputs": [],
   "source": [
    "mesh1 = trimesh.base.Trimesh(vertices=np.loadtxt('data/wolf0.vert'), faces=np.loadtxt('data/wolf0.tri', dtype=np.int32)-1)\n",
    "mesh2 = trimesh.base.Trimesh(vertices=np.loadtxt('data/wolf1.vert'), faces=np.loadtxt('data/wolf1.tri', dtype=np.int32)-1)\n",
    "\n",
    "mesh1.visual.vertex_colors = trimesh.visual.random_color()\n",
    "\n",
    "# write scene to html\n",
    "if os.path.exists(\"scene.html\"):\n",
    "    os.remove(\"scene.html\")\n",
    "html = viewer.notebook.scene_to_html((trimesh.util.concatenate([mesh1, mesh2])).scene())\n",
    "with open(\"scene.html\", \"w\") as file:\n",
    "    file.write(html)"
   ]
  },
  {
   "cell_type": "code",
   "execution_count": null,
   "metadata": {},
   "outputs": [],
   "source": [
    "def get_laplacian(faces):\n",
    "    N = faces.max() + 1\n",
    "    # face to edge\n",
    "    row, col = np.concatenate([faces[:2], faces[1:], faces[::2]], axis=1)\n",
    "    # to undirected\n",
    "    row, col = np.unique(np.concatenate([np.stack([row, col]), np.stack([col, row])], axis=1), axis=1)\n",
    "    # edge weight\n",
    "    data = np.ones(len(row))\n",
    "    # adjacency matrix\n",
    "    A = scipy.sparse.coo_matrix((data, (row, col)), shape=(N, N)).todok().tocsr()\n",
    "    # ensure symmetry\n",
    "    assert (abs(A - A.T) > 1e-10).nnz == 0\n",
    "    # degree matrix\n",
    "    D = scipy.sparse.diags(np.array(A.sum(axis=1)).flatten())\n",
    "    # combinatorial Laplacian\n",
    "    L = D - A\n",
    "    return L.tocoo()"
   ]
  },
  {
   "cell_type": "code",
   "execution_count": null,
   "metadata": {},
   "outputs": [],
   "source": [
    "def arap(source, target, num_iter=100):\n",
    "    x = source.vertices\n",
    "    y = target.vertices\n",
    "    N = len(x)\n",
    "    L = get_laplacian(source.faces.T)\n",
    "    for i in range(num_iter):\n",
    "        print('iteration: ', i + 1)\n",
    "        # measure rms error\n",
    "        print('rms error: ', np.sqrt(np.mean(np.linalg.norm(x - y, axis=1) ** 2)))\n",
    "        # calculate the S-matrix\n",
    "        S = np.einsum('ij,ik->ijk', x[L.row] - x[L.col], y[L.row] - y[L.col])\n",
    "        S = scipy.sparse.bsr_matrix((S, L.tocsr().indices, L.tocsr().indptr),\n",
    "                                    shape=(3*N, 3*N))\n",
    "        S = np.asarray(S.reshape(N, N*3*3).sum(axis=0))\n",
    "        S = S.reshape(3, N, 3).swapaxes(0, 1)\n",
    "        # singular value decomposition\n",
    "        U, _, Vh = np.linalg.svd(S)\n",
    "        # calculate the rotation matrices\n",
    "        R = np.einsum('ikj, ilk -> ijl', Vh, U)\n",
    "        # calculate the b vector\n",
    "        b = np.einsum('ijk,ik->ij', R[L.row] + R[L.col], x[L.row] - x[L.col])[:, None] * -0.5\n",
    "        b = scipy.sparse.bsr_matrix((b, L.tocsr().indices, L.tocsr().indptr),\n",
    "                                    shape=(N, 3*N))\n",
    "        b = np.asarray(b.sum(axis=0))\n",
    "        b = b.reshape(N, 3)\n",
    "        # solve the system of linear equations using conjugate gradient method\n",
    "        x_solution, info = scipy.sparse.linalg.cg(L, b[:, 0])\n",
    "        print('info: ', info)\n",
    "        y_solution, info = scipy.sparse.linalg.cg(L, b[:, 1])\n",
    "        print('info: ', info)\n",
    "        z_solution, info = scipy.sparse.linalg.cg(L, b[:, 2])\n",
    "        print('info: ', info)\n",
    "        x = np.stack([x_solution, y_solution, z_solution], axis=1)\n",
    "        # # rigid registration - this is optional, I had to use it for my project\n",
    "        # U, _, Vh = np.linalg.svd(np.einsum('ij, ik -> jk', x - x.mean(axis=0), y - y.mean(axis=0)))\n",
    "        # R = np.einsum('ji, kj -> ik', Vh, U)\n",
    "        # t = y.mean(axis=0) - R @ x.mean(axis=0)\n",
    "        # x = x @ R + t\n",
    "    return x\n"
   ]
  },
  {
   "cell_type": "code",
   "execution_count": null,
   "metadata": {},
   "outputs": [],
   "source": [
    "solution = arap(mesh1, mesh2)"
   ]
  },
  {
   "cell_type": "code",
   "execution_count": null,
   "metadata": {},
   "outputs": [],
   "source": [
    "trans_mesh = trimesh.base.Trimesh(solution, mesh1.faces)\n",
    "\n",
    "trans_mesh.visual.vertex_colors = trimesh.visual.random_color()\n",
    "\n",
    "# write scene to html\n",
    "if os.path.exists(\"scene.html\"):\n",
    "    os.remove(\"scene.html\")\n",
    "html = viewer.notebook.scene_to_html(trimesh.util.concatenate([trans_mesh, mesh2]).scene())\n",
    "with open(\"scene.html\", \"w\") as file:\n",
    "    file.write(html)\n",
    "\n",
    "# THE TWO MESHES SHOULD BE ALIGNED NOW"
   ]
  }
 ],
 "metadata": {
  "language_info": {
   "name": "python"
  },
  "orig_nbformat": 4
 },
 "nbformat": 4,
 "nbformat_minor": 2
}
